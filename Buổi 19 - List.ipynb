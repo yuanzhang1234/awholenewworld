{
 "cells": [
  {
   "cell_type": "markdown",
   "id": "fad0ff18",
   "metadata": {},
   "source": [
    "# List\n",
    "\n",
    "### Đặt vấn đề\n",
    "\n",
    "Nếu như ta có một lượng dữ liệu không biết trước được số lượng cần lưu vào biến, ta không thể lưu bằng cách thông thường\n",
    "\n",
    "Lấy ví dụ:\n",
    "\n",
    "Nhập vào số n, sau đó nhập tiếp n số và lưu trữ n số đó vào biến\n",
    "\n",
    "Vậy ta hoàn toàn không biết được người dùng sẽ nhập bao nhiêu số để lưu trữ\n",
    "\n",
    "Lúc này ta cần đến List\n",
    "\n",
    "List giúp chúng ta lưu nhiều giá trị cùng 1 lúc, nhưng chỉ cần đặt tên cho nó lần\n",
    "\n",
    "##### Tài liệu tham khảo: https://www.w3schools.com/python/python_lists.asp"
   ]
  },
  {
   "cell_type": "markdown",
   "id": "4ca9e91e",
   "metadata": {},
   "source": [
    "### Cách thức khai báo List\n",
    "\n",
    "Cú pháp:\n",
    "\n",
    "`<tên list> = []`\n",
    "\n",
    "##### List được khai báo bằng 2 dấu ngoặc vuông\n",
    "\n",
    "<b> Ví dụ 1: </b>\n",
    "\n",
    "`a = []`\n",
    "\n",
    "a là một list, không có bất kỳ phần tử nào trong đó\n",
    "\n",
    "<b> Ví dụ 2: </b>\n",
    "\n",
    "`b = [1,2,3]`\n",
    "\n",
    "##### Các phần tử trong list được khai báo, mỗi phần tử cách nhau một dấu phẩy\n",
    "\n",
    "b là một list có 3 phần tử\n",
    "\n",
    "<b> Ví dụ 3: </b>\n",
    "\n",
    "`c = [\"abc\",5,1.5]`\n",
    "\n",
    "##### Các phần tử trong list có thể có những kiểu dữ liệu khác nhau\n",
    "\n",
    "c là một list có 3 phần tử, phần tử thứ nhất có kiểu dữ liệu là chuỗi, phần tử thứ hai có kiểu dữ liệu là số nguyên và phần tử cuối cùng có kiểu dữ liệu là số thực\n",
    "\n",
    "<b> Hãy khai báo một list xong rồi in list đó lên màn hình </b>"
   ]
  },
  {
   "cell_type": "code",
   "execution_count": 3,
   "id": "c2f37351",
   "metadata": {},
   "outputs": [
    {
     "name": "stdout",
     "output_type": "stream",
     "text": [
      "b\n"
     ]
    }
   ],
   "source": [
    "c =[\"abc\",5, 1.5]\n",
    "print(c[0][1])"
   ]
  },
  {
   "cell_type": "markdown",
   "id": "be8e19b0",
   "metadata": {},
   "source": [
    "### Truy xuất phần tử trong List\n",
    "\n",
    "Giống như chuỗi, các phần tử trong list được truy xuất theo cú pháp:\n",
    "\n",
    "`<tên list>[<vị trí của phần tử>]`\n",
    "\n",
    "<b> Ví dụ 1: </b>\n",
    "\n",
    "`a = [1,4,6]\n",
    "print(a[1])`\n",
    "\n",
    "Màn hình sẽ in ra 4\n",
    "\n",
    "<b> Hãy khai báo một list có một chuỗi và một số rồi in chuỗi trong list đó ra màn hình </b>"
   ]
  },
  {
   "cell_type": "code",
   "execution_count": null,
   "id": "bb3f9141",
   "metadata": {},
   "outputs": [],
   "source": []
  },
  {
   "cell_type": "markdown",
   "id": "ad61e236",
   "metadata": {},
   "source": [
    "### Thêm phần tử vào List\n",
    "\n",
    "Cú pháp:\n",
    "\n",
    "`<tên list>.append()`\n",
    "\n",
    "<b>Ví dụ:</b>\n",
    "\n",
    "`a = []\n",
    "a.append(5)`\n",
    "\n",
    "a sẽ có 1 phần tử là 5\n",
    "\n",
    "<b> Hãy khai báo một list rỗng, rồi thêm 2 phần tử bất kỳ vào list đó, sau đó in list đó ra</b>"
   ]
  },
  {
   "cell_type": "code",
   "execution_count": 5,
   "id": "5823ddca",
   "metadata": {},
   "outputs": [
    {
     "name": "stdout",
     "output_type": "stream",
     "text": [
      "['abc', 5, 1.5, 12]\n"
     ]
    }
   ],
   "source": [
    "c =[\"abc\",5, 1.5]\n",
    "c.append(12)\n",
    "print(c)"
   ]
  },
  {
   "cell_type": "markdown",
   "id": "8c92d3d3",
   "metadata": {},
   "source": [
    "### Thay đổi giá trị của List\n",
    "\n",
    "Cú pháp:\n",
    "\n",
    "`<tên list>[<vị trí của phần tử>] = <giá trị mới>`\n",
    "\n",
    "<b> Hãy khai báo một list bất kỳ, rồi thay đổi 1 phần tử trong nó, sau đó in list đó ra</b>"
   ]
  },
  {
   "cell_type": "code",
   "execution_count": 6,
   "id": "13c61075",
   "metadata": {},
   "outputs": [
    {
     "name": "stdout",
     "output_type": "stream",
     "text": [
      "['ttt', 'abc', 5]\n"
     ]
    }
   ],
   "source": [
    "l=[\"tri\",\"abc\",5]\n",
    "l[0] = \"ttt\"\n",
    "print(l)"
   ]
  },
  {
   "cell_type": "markdown",
   "id": "ce14eefe",
   "metadata": {},
   "source": [
    "### Xóa 1 phần tử trong list\n",
    "\n",
    "#### Lệnh remove()\n",
    "\n",
    "Cú pháp:\n",
    "\n",
    "`<tên list>.remove(<giá trị cần xóa>)`\n",
    "\n",
    "<b>Ví dụ:</b>\n",
    "\n",
    "`a = [\"hi\",3,\"hello\",4]\n",
    "a.remove(\"hi\")`\n",
    "\n",
    "Sau khi thực hiện lệnh trên, a chỉ còn [3,\"hello\",4]\n",
    "\n",
    "<b> Hãy khai báo một list bất kỳ, rồi xóa 1 phần tử trong nó bằng lệnh remove(), sau đó in list đó ra</b>"
   ]
  },
  {
   "cell_type": "code",
   "execution_count": null,
   "id": "f79402ad",
   "metadata": {},
   "outputs": [],
   "source": []
  },
  {
   "cell_type": "markdown",
   "id": "ec66c5cc",
   "metadata": {},
   "source": [
    "#### Lệnh pop()\n",
    "\n",
    "Cú pháp:\n",
    "\n",
    "`<tên list>.pop(<vị trí cần xóa>)`\n",
    "\n",
    "<b>Ví dụ:</b>\n",
    "\n",
    "`a = [\"hi\",3,\"hello\",4]\n",
    "a.pop(3)`\n",
    "\n",
    "Sau khi thực hiện lệnh trên, a chỉ còn [\"hi\",3,\"hello\"]\n",
    "\n",
    "<b> Hãy khai báo một list bất kỳ, rồi xóa 1 phần tử trong nó bằng lệnh pop(), sau đó in list đó ra</b>"
   ]
  },
  {
   "cell_type": "code",
   "execution_count": 8,
   "id": "eeaa0766",
   "metadata": {},
   "outputs": [
    {
     "name": "stdout",
     "output_type": "stream",
     "text": [
      "['hi', 3]\n"
     ]
    }
   ],
   "source": [
    "a=[\"hi\",3,\"hello\", 12]\n",
    "a.pop(2)\n",
    "a.pop(2)\n",
    "print(a)"
   ]
  },
  {
   "cell_type": "markdown",
   "id": "96daac1c",
   "metadata": {},
   "source": [
    "### Sao chép list\n",
    "\n",
    "###### Lưu ý: Nếu ta có list a, ta thực hiện lệnh b = a, list b sẽ bị ảnh hưởng khi list a có sự thay đổi\n",
    "\n",
    "<b> Ví dụ: </b>\n",
    "\n",
    "`a = [5,7,1]\n",
    "b = a\n",
    "a.remove(5)`\n",
    "\n",
    "Khi thực hiện 3 lệnh trên, b sẽ bằng [7,1], dù cho ta thực hiện lệnh `b = a` trước `a.remove(5)`\n",
    "\n",
    "<b> Kiểm chứng sự ảnh hưởng khi gán list </b>"
   ]
  },
  {
   "cell_type": "code",
   "execution_count": null,
   "id": "1dbdf54b",
   "metadata": {},
   "outputs": [],
   "source": []
  },
  {
   "cell_type": "markdown",
   "id": "c9c51aad",
   "metadata": {},
   "source": [
    "### Lệnh copy()\n",
    "\n",
    "Cú pháp:\n",
    "\n",
    "`<tên list>.copy()`\n",
    "\n",
    "##### Dùng lệnh copy sẽ khắc phục được vấn đề gán list a cho b\n",
    "\n",
    "<b> Ví dụ: </b>\n",
    "\n",
    "`a = [5,7,1]\n",
    "b = a.copy()\n",
    "a.remove(5)`\n",
    "\n",
    "Khi thực hiện 3 lệnh trên, b vẫn sẽ bằng [5,7,1]\n",
    "\n",
    "Lúc này, b sẽ là một list mới độc lập hoàn toàn với a\n",
    "\n",
    "<b> Khai báo list a, dùng lệnh copy cho list b, rồi thêm phần tử vào list a, sau đó in cả 2 list lên màn hình</b>"
   ]
  },
  {
   "cell_type": "code",
   "execution_count": null,
   "id": "46759662",
   "metadata": {},
   "outputs": [],
   "source": []
  },
  {
   "cell_type": "markdown",
   "id": "d8f470e0",
   "metadata": {},
   "source": [
    "### Lệnh len()\n",
    "\n",
    "Tương tự như chuỗi, ta có thể dùng lệnh len cho list để trả về số lượng của list\n",
    "\n",
    "<b> Ví dụ:</b>\n",
    "\n",
    "`a = [3,\"Hello\",5,\"hi\"]\n",
    "b = len(a)`\n",
    "\n",
    "Giá trị của b là 4\n",
    "\n",
    "<b> Khai báo list a, in lên độ dài của list a </b>"
   ]
  },
  {
   "cell_type": "code",
   "execution_count": 9,
   "id": "dfbcf0db",
   "metadata": {},
   "outputs": [
    {
     "name": "stdout",
     "output_type": "stream",
     "text": [
      "4\n"
     ]
    }
   ],
   "source": [
    "a = [3,\"Hello\",5,\"hi\"]\n",
    "b = len(a)\n",
    "print(b)"
   ]
  },
  {
   "cell_type": "markdown",
   "id": "8ac29b78",
   "metadata": {},
   "source": [
    "### Duyệt list bằng lệnh for\n",
    "\n",
    "<b> Duyệt list với vị trí </b>"
   ]
  },
  {
   "cell_type": "code",
   "execution_count": 5,
   "id": "1be33622",
   "metadata": {},
   "outputs": [
    {
     "name": "stdout",
     "output_type": "stream",
     "text": [
      "3 0\n",
      "Hello 1\n",
      "5 2\n"
     ]
    }
   ],
   "source": [
    "a = [3,\"Hello\",5,\"hi\"]\n",
    "for i in range(len(a)-1):\n",
    "    print(a[i],i)"
   ]
  },
  {
   "cell_type": "markdown",
   "id": "53b6e6eb",
   "metadata": {},
   "source": [
    "<b> Duyệt list với giá trị từng phần tử</b>"
   ]
  },
  {
   "cell_type": "code",
   "execution_count": null,
   "id": "cdf22aa3",
   "metadata": {},
   "outputs": [],
   "source": []
  },
  {
   "cell_type": "markdown",
   "id": "3fcda853",
   "metadata": {},
   "source": [
    "### Bài tập"
   ]
  },
  {
   "cell_type": "markdown",
   "id": "72d9a5fa",
   "metadata": {},
   "source": [
    "Nhập vào một dãy số nguyên dương (ngưng nhập nếu người dùng nhập -1)\n",
    "\n",
    "Sau khi nhập hãy:\n",
    "- In ra số lớn nhất trong dãy\n",
    "- In ra số bé nhất trong dãy\n",
    "- In ra dãy số nguyên tố tìm được trong dãy vừa nhập"
   ]
  },
  {
   "cell_type": "code",
   "execution_count": 8,
   "id": "38805cc0",
   "metadata": {},
   "outputs": [
    {
     "name": "stdout",
     "output_type": "stream",
     "text": [
      "Nhập vào 1 số nguyên dương: 7\n",
      "Nhập vào 1 số nguyên dương: 4\n",
      "Nhập vào 1 số nguyên dương: 5\n",
      "Nhập vào 1 số nguyên dương: 9\n",
      "Nhập vào 1 số nguyên dương: 6\n",
      "Nhập vào 1 số nguyên dương: 8\n",
      "Nhập vào 1 số nguyên dương: 3\n",
      "Nhập vào 1 số nguyên dương: -1\n",
      "3 9\n",
      "[7, 5, 3]\n"
     ]
    }
   ],
   "source": [
    "a = []\n",
    "snt=[]\n",
    "while True:\n",
    "    n = int(input(\"Nhập vào 1 số nguyên dương: \"))\n",
    "    if n == -1:\n",
    "        break\n",
    "    a.append(n)\n",
    "min = a[0]\n",
    "max = a[0]\n",
    "for i in range(len(a)):\n",
    "    if a[i]< min:\n",
    "        min = a[i]\n",
    "    if max < a[i]:\n",
    "        max = a[i]\n",
    "    k = 0\n",
    "    for j in range(1,a[i]):\n",
    "        if a[i]%j == 0:\n",
    "            k+=1\n",
    "    if k<2:\n",
    "        snt.append(a[i])\n",
    "\n",
    "    k=0\n",
    "print(min,max)\n",
    "print(snt)"
   ]
  },
  {
   "cell_type": "markdown",
   "id": "f493bb3e",
   "metadata": {},
   "source": [
    "Viết hàm với dữ liệu đầu vào bao gồm 3 tham số: list, a, b. Hàm này có công dụng tìm số lớn nhất trong đoạn từ vị trí a đến vị trí b trong list."
   ]
  },
  {
   "cell_type": "code",
   "execution_count": null,
   "id": "a730c2f8",
   "metadata": {},
   "outputs": [],
   "source": []
  },
  {
   "cell_type": "markdown",
   "id": "87acccb8",
   "metadata": {},
   "source": [
    "Viết hàm có tham số đầu vào là list, giá trị trả về là số lượng số nguyên tố bé hơn 100 trong list"
   ]
  },
  {
   "cell_type": "code",
   "execution_count": null,
   "id": "c605991d",
   "metadata": {},
   "outputs": [],
   "source": []
  },
  {
   "cell_type": "markdown",
   "id": "13840ec8",
   "metadata": {},
   "source": [
    "Viết hàm tìm giá trị dương đầu tiên của list, nếu không có giá trị dương trả về -1"
   ]
  },
  {
   "cell_type": "code",
   "execution_count": 4,
   "id": "d7ffb2b7",
   "metadata": {},
   "outputs": [
    {
     "name": "stdout",
     "output_type": "stream",
     "text": [
      "gia tri duong dau tien trong list:  [1]\n"
     ]
    }
   ],
   "source": [
    "def gtddt(l):\n",
    "    gtddt = []\n",
    "    for i in range(0,len(l)):\n",
    "        if l[i] > 0:\n",
    "            gtddt.append(l[i])\n",
    "            break\n",
    "            gtddt = [-1]   \n",
    "    return gtddt\n",
    "\n",
    "l = [-7,-3,-4,-2,1,-4]\n",
    "print('gia tri duong dau tien trong list: ', gtddt(l))"
   ]
  },
  {
   "cell_type": "markdown",
   "id": "0f71c71e",
   "metadata": {},
   "source": [
    "Viết hàm có 2 giá trị đầu vào là list và x. Tìm giá trị trong list xa x nhất"
   ]
  },
  {
   "cell_type": "code",
   "execution_count": null,
   "id": "03ef7d4c",
   "metadata": {},
   "outputs": [],
   "source": [
    "L = [1,3,5,3,7,8,9]\n",
    "x= 4\n"
   ]
  },
  {
   "cell_type": "markdown",
   "id": "3b634d0f",
   "metadata": {},
   "source": [
    "Một người dùng số tiền là U đô-la và V Euro để mua một loại nguyên liệu sản xuất. \n",
    "\n",
    "Có N công ty nước ngoài bán nguyên liệu trên được đánh số từ 1 đến N. Công ty thứ i có giá bán Ai đô la/1 kg nguyên liệu và Bi Euro/1 kg nguyên liệu. \n",
    "\n",
    "Tuy nhiên, tại mỗi công ty chỉ bán nguyên liệu cho một khách hàng hoặc theo đô-la, hoặc theo Euro. \n",
    "\n",
    "Hãy giúp người đó tìm cách chọn ra 2 công ty để mua hàng sao cho số lượng nguyên liệu sản xuất có thể mua được là nhiều nhất.\n",
    "\n",
    "Nhập vào: Từ bàn phím 3 số theo thứ tự : N U V (1 ≤ N ≤ 20; 1 ≤ U, V ≤ 1000) và N cặp số nguyên Ai, Bi (1 < Ai, Bi < 1000) (nhập lần lượng A1, B1 rồi A2, B2)\n",
    "\n",
    "In ra : Số lượng nguyên liệu S(kg) người đó mua được với 2 chữ số thập phân."
   ]
  },
  {
   "cell_type": "code",
   "execution_count": null,
   "id": "677abefe",
   "metadata": {},
   "outputs": [],
   "source": []
  },
  {
   "cell_type": "code",
   "execution_count": null,
   "id": "90401e4e",
   "metadata": {},
   "outputs": [],
   "source": []
  }
 ],
 "metadata": {
  "kernelspec": {
   "display_name": "Python 3 (ipykernel)",
   "language": "python",
   "name": "python3"
  },
  "language_info": {
   "codemirror_mode": {
    "name": "ipython",
    "version": 3
   },
   "file_extension": ".py",
   "mimetype": "text/x-python",
   "name": "python",
   "nbconvert_exporter": "python",
   "pygments_lexer": "ipython3",
   "version": "3.10.4"
  }
 },
 "nbformat": 4,
 "nbformat_minor": 5
}
