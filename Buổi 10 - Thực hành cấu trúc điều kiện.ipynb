{
 "cells": [
  {
   "cell_type": "markdown",
   "id": "dcdb816e",
   "metadata": {},
   "source": [
    "# Thực hành cấu trúc điều khiển\n",
    "\n",
    "### Bài 1\n",
    "\n",
    "Cho phương trình bậc 2: ax^2 + bx + c = 0\n",
    "\n",
    "Nhập a, b, c\n",
    "\n",
    "Giải và biện luận phương trình trên"
   ]
  },
  {
   "cell_type": "code",
   "execution_count": 5,
   "id": "b5a5c325",
   "metadata": {},
   "outputs": [
    {
     "name": "stdout",
     "output_type": "stream",
     "text": [
      "Nhập số a: 2\n",
      "Nhập số b: 4\n",
      "Nhập số c: -16\n",
      "Phương trình có 2 nghiệm là  2.0 , -4.0\n"
     ]
    }
   ],
   "source": [
    "a = int(input(\"Nhập số a: \"))\n",
    "b = int(input(\"Nhập số b: \"))\n",
    "c = int(input(\"Nhập số c: \"))\n",
    "delta = b**2 - 4*a*c\n",
    "if(delta < 0):\n",
    "    print(\"Phương trình vô nghiệm\")\n",
    "elif(delta == 0):\n",
    "    x = -b//(2*a)\n",
    "    print(\"Phương trình có nghiệm kép là \", x)\n",
    "else:\n",
    "    x1 = (-b + delta**0.5)//(2*a)\n",
    "    x2 = (-b - delta**0.5)//(2*a)\n",
    "    print(\"Phương trình có 2 nghiệm là \", x1, \",\", x2)"
   ]
  },
  {
   "cell_type": "markdown",
   "id": "6f7d329d",
   "metadata": {},
   "source": [
    "### Bài 2\n",
    "\n",
    "Hãy nhập vào một số\n",
    "\n",
    "Xác định coi đó có phải là số nguyên tố hay không"
   ]
  },
  {
   "cell_type": "code",
   "execution_count": null,
   "id": "049c85f5",
   "metadata": {},
   "outputs": [],
   "source": [
    "a = int(input(\"Nhập số a: \"))\n",
    "b = a//2\n",
    "k = 1\n",
    "u = 0\n",
    "for i in range(b - 1):\n",
    "    if(a%k == 0):\n",
    "        u += 1\n",
    "if(u == 1):\n",
    "    print(\"Đây là số nguyên tố\")\n",
    "elif(u > 1):\n",
    "    print(\"Đây ko phải số nguyên tố\", u)"
   ]
  },
  {
   "cell_type": "markdown",
   "id": "75f7717b",
   "metadata": {},
   "source": [
    "### Bài 3\n",
    "\n",
    "Hãy nhập vào số n\n",
    "\n",
    "Hãy đếm số chữ số 0 tận cùng của n giai thừa\n",
    "\n",
    "(Bài này nâng cao, mọi người có thể bỏ qua)"
   ]
  },
  {
   "cell_type": "code",
   "execution_count": 10,
   "id": "789e0e76",
   "metadata": {},
   "outputs": [
    {
     "name": "stdout",
     "output_type": "stream",
     "text": [
      "Nhập số a: 8\n",
      "Đây ko phải số nguyên tố 3\n"
     ]
    }
   ],
   "source": []
  },
  {
   "cell_type": "markdown",
   "id": "29cd6c81",
   "metadata": {},
   "source": [
    "### Bài 4\n",
    "\n",
    "In ra tất cả các số chia hết cho 3 nhỏ hơn 100"
   ]
  },
  {
   "cell_type": "code",
   "execution_count": 11,
   "id": "0b848981",
   "metadata": {},
   "outputs": [
    {
     "name": "stdout",
     "output_type": "stream",
     "text": [
      "0\n",
      "3\n",
      "6\n",
      "9\n",
      "12\n",
      "15\n",
      "18\n",
      "21\n",
      "24\n",
      "27\n",
      "30\n",
      "33\n",
      "36\n",
      "39\n",
      "42\n",
      "45\n",
      "48\n",
      "51\n",
      "54\n",
      "57\n",
      "60\n",
      "63\n",
      "66\n",
      "69\n",
      "72\n",
      "75\n",
      "78\n",
      "81\n",
      "84\n",
      "87\n",
      "90\n",
      "93\n",
      "96\n",
      "99\n"
     ]
    }
   ],
   "source": [
    "k = 0\n",
    "for i in range(100):\n",
    "    if (k%3 == 0):\n",
    "        print(k)\n",
    "    k+=1"
   ]
  },
  {
   "cell_type": "markdown",
   "id": "04dbf99b",
   "metadata": {},
   "source": [
    "### Bài 5\n",
    "\n",
    "In ra tất cả các số lẻ nhưng không chia hết cho 3 nhỏ hơn 100"
   ]
  },
  {
   "cell_type": "code",
   "execution_count": 12,
   "id": "769eb439",
   "metadata": {},
   "outputs": [
    {
     "name": "stdout",
     "output_type": "stream",
     "text": [
      "1\n",
      "5\n",
      "7\n",
      "11\n",
      "13\n",
      "17\n",
      "19\n",
      "23\n",
      "25\n",
      "29\n",
      "31\n",
      "35\n",
      "37\n",
      "41\n",
      "43\n",
      "47\n",
      "49\n",
      "53\n",
      "55\n",
      "59\n",
      "61\n",
      "65\n",
      "67\n",
      "71\n",
      "73\n",
      "77\n",
      "79\n",
      "83\n",
      "85\n",
      "89\n",
      "91\n",
      "95\n",
      "97\n"
     ]
    }
   ],
   "source": [
    "k = 0\n",
    "for i in range(100):\n",
    "    if (k%3 != 0 and k%2 == 1):\n",
    "        print(k)\n",
    "    k+=1"
   ]
  },
  {
   "cell_type": "markdown",
   "id": "26dd47fb",
   "metadata": {},
   "source": [
    "### Bài 5\n",
    "\n",
    "Tại một cửa hàng nọ có menu như sau:\n",
    "\n",
    "1. Gà rán giá 35k\n",
    "2. Hamburger giá 50k\n",
    "3. Pesi giá 10k\n",
    "\n",
    "Nhập số lượng món hàng cần mua\n",
    "\n",
    "Tính và in ra tổng giá tiền (hiển thị có dấu chấm mỗi 3 chữ số để người dùng để quan sát)\n",
    "\n",
    "Nếu giá trị đơn hàng trên 2 triệu, giảm 10% cho khách, trên 4 triệu, giảm 15%\n",
    "\n",
    "Tính và in ra tổng giá tiền được giảm (hiển thị có dấu chấm mỗi 3 chữ số để người dùng để quan sát)\n",
    "\n",
    "Tính và in ra tổng giá tiền khách cần trả (hiển thị có dấu chấm mỗi 3 chữ số để người dùng để quan sát)\n",
    "\n",
    "In ra dòng chữ \"Cảm ơn quý khách đã mua hàng\""
   ]
  },
  {
   "cell_type": "code",
   "execution_count": 4,
   "id": "8509df1e",
   "metadata": {},
   "outputs": [
    {
     "name": "stdout",
     "output_type": "stream",
     "text": [
      "Nhập số lượng Gà rán: 1\n",
      "Nhập số lượng Hamburger: 1\n",
      "Nhập số lương Pepsi: 1\n",
      "000.95\n"
     ]
    }
   ],
   "source": [
    "print(\"1. Gà rán giá 35k\")\n",
    "print(\"2. Hamburger giá 50k\")\n",
    "print(\"3. Pesi giá 10k\")\n",
    "print()\n",
    "\n",
    "garan = int(input(\"Nhập số lượng gà rán: \"))\n",
    "hamburger = int(input(\"Nhập số lượng hamburger: \"))\n",
    "pepsi = int(input(\"Nhập số lượng pesi: \"))\n",
    "\n",
    "tong = garan*35000 + pepsi*10000 + hamburger*50000\n",
    "\n",
    "if 4000000 >= tong > 2000000:\n",
    "    tiengiam = int(tong*0.1)\n",
    "    tong = tong - tiengiam\n",
    "    \n",
    "elif tong>4000000:\n",
    "    tiengiam = int(tong*0.15)\n",
    "    tong = tong-tiengiam\n",
    "else:\n",
    "    tiengiam = 0\n",
    "\n",
    "tiengiam = str(tiengiam)\n",
    "sodaucham = (len(tiengiam) - 1)//3\n",
    "vt = len(tiengiam) - 3\n",
    "for i in range(sodaucham):\n",
    "    tiengiam = tiengiam[:vt] + \".\" + tiengiam[vt:]\n",
    "    vt -= 3\n",
    "    \n",
    "tong = str(tong)\n",
    "sodaucham = (len(tong) - 1)//3\n",
    "vt = len(tong) - 3\n",
    "for i in range(sodaucham):\n",
    "    tong = tong[:vt] + \".\" + tong[vt:]\n",
    "    vt -= 3\n",
    "    \n",
    "print()\n",
    "print(\"Số tiền được giảm giá là:\",tiengiam,\"VNĐ\")\n",
    "print(\"Số tiền cần thanh toán là:\",tong,\"VNĐ\")\n",
    "print()\n",
    "print(\"Cảm ơn quý khách đã mua hàng!\")\n"
   ]
  },
  {
   "cell_type": "markdown",
   "id": "ab10a1ce",
   "metadata": {},
   "source": [
    "### Bài 6\n",
    "\n",
    "Nhập vào chiều cao (cm) và cân nặng (kg), tính số BMI và xét rồi xin kết quả theo dữ liệu sau:\n",
    "\n",
    "- BMI < 16: Gầy cấp độ III\n",
    "- 16 <= BMI < 17:  Gầy cấp độ II\n",
    "- 17<= BMI < 18.5: Gầy cấp độ I\n",
    "- 18.5 <= BMI < 25: Bình thường\n",
    "- 25 <= BMI < 30: Thừa cân\n",
    "- 30 <= BMI < 35 : Béo phì cấp độ I\n",
    "- 35 <= BMI < 40: Béo phì cấp độ II\n",
    "- BMI > 40: Béo phì cấp độ III"
   ]
  },
  {
   "cell_type": "code",
   "execution_count": null,
   "id": "1058f441",
   "metadata": {},
   "outputs": [],
   "source": []
  },
  {
   "cell_type": "markdown",
   "id": "f7620342",
   "metadata": {},
   "source": [
    "### Bài 7\n",
    "\n",
    "Nhập ngày, tháng, năm. Hãy tính và in ra màn hình kể từ đầu năm đến ngày vừa nhập là bao nhiêu ngày."
   ]
  },
  {
   "cell_type": "code",
   "execution_count": null,
   "id": "4c57f0a5",
   "metadata": {},
   "outputs": [],
   "source": [
    "ngay = int(input(\"Nhập ngày: \"))\n",
    "thang = int(input(\"Nhập tháng: \"))\n",
    "nam = int(input(\"Nhập năm: \"))"
   ]
  }
 ],
 "metadata": {
  "kernelspec": {
   "display_name": "Python 3 (ipykernel)",
   "language": "python",
   "name": "python3"
  },
  "language_info": {
   "codemirror_mode": {
    "name": "ipython",
    "version": 3
   },
   "file_extension": ".py",
   "mimetype": "text/x-python",
   "name": "python",
   "nbconvert_exporter": "python",
   "pygments_lexer": "ipython3",
   "version": "3.10.4"
  }
 },
 "nbformat": 4,
 "nbformat_minor": 5
}
